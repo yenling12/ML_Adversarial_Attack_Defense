{
 "cells": [
  {
   "cell_type": "markdown",
   "id": "56338acc",
   "metadata": {},
   "source": [
    "#### Note: This notebook uses the Smooth class from the paper Certified Adversarial Robustness via Randomized Smoothing. The github for the project used can be found here: https://github.com/locuslab/smoothing/tree/master"
   ]
  },
  {
   "cell_type": "markdown",
   "id": "8a3da372",
   "metadata": {},
   "source": [
    "### Imports"
   ]
  },
  {
   "cell_type": "code",
   "execution_count": 1,
   "id": "b52a8b50",
   "metadata": {},
   "outputs": [],
   "source": [
    "# Load in relevant libraries, and alias where appropriate\n",
    "import torch\n",
    "import torch.nn as nn\n",
    "import torchvision\n",
    "import torchvision.transforms as transforms\n",
    "\n",
    "# Define relevant variables for the ML task\n",
    "batch_size = 64\n",
    "num_classes = 10\n",
    "learning_rate = 0.001\n",
    "num_epochs = 10\n",
    "\n",
    "# Device will determine whether to run the training on GPU or CPU.\n",
    "device = torch.device('cuda' if torch.cuda.is_available() else 'cpu')"
   ]
  },
  {
   "cell_type": "code",
   "execution_count": 2,
   "id": "a0c26d70",
   "metadata": {},
   "outputs": [
    {
     "name": "stdout",
     "output_type": "stream",
     "text": [
      "cuda\n"
     ]
    }
   ],
   "source": [
    "# Check that cuda is being utilized (Required for Smooth)\n",
    "print(device)"
   ]
  },
  {
   "cell_type": "code",
   "execution_count": 3,
   "id": "d7ce200f",
   "metadata": {},
   "outputs": [
    {
     "name": "stdout",
     "output_type": "stream",
     "text": [
      "WARNING:tensorflow:From C:\\Users\\Ty\\anaconda3\\Lib\\site-packages\\keras\\src\\losses.py:2976: The name tf.losses.sparse_softmax_cross_entropy is deprecated. Please use tf.compat.v1.losses.sparse_softmax_cross_entropy instead.\n",
      "\n"
     ]
    }
   ],
   "source": [
    "# Additional imports\n",
    "import tensorflow as tf\n",
    "from tensorflow import keras\n",
    "import numpy as np\n",
    "import random\n",
    "from tensorflow.image import resize\n",
    "#import cv2\n",
    "from itertools import islice\n",
    "#from sklearn.preprocessing import LabelBinarizer\n",
    "from sklearn.preprocessing import LabelEncoder\n",
    "from keras.models import load_model\n",
    "import matplotlib.pyplot as plt\n",
    "from matplotlib.gridspec import GridSpec\n",
    "%matplotlib inline\n",
    "import copy\n",
    "from tensorflow.keras import backend as K\n",
    "import json, torch\n",
    "import torch.nn as nn\n",
    "from sklearn.preprocessing import LabelBinarizer\n",
    "import torch.optim as optim\n",
    "from torch.utils.data import DataLoader, TensorDataset"
   ]
  },
  {
   "cell_type": "markdown",
   "id": "ace5cf02",
   "metadata": {},
   "source": [
    "### Prepare Data"
   ]
  },
  {
   "cell_type": "code",
   "execution_count": 4,
   "id": "48fb3048",
   "metadata": {},
   "outputs": [],
   "source": [
    "#Loading the dataset and preprocessing\n",
    "train_dataset = torchvision.datasets.MNIST(root = './data',\n",
    "                                           train = True,\n",
    "                                           transform = transforms.Compose([\n",
    "                                                  transforms.Resize((32,32)),\n",
    "                                                  transforms.ToTensor(),\n",
    "                                                  transforms.Normalize(mean = (0.1307,), std = (0.3081,))]),\n",
    "                                           download = True)\n",
    "\n",
    "\n",
    "test_dataset = torchvision.datasets.MNIST(root = './data',\n",
    "                                          train = False,\n",
    "                                          transform = transforms.Compose([\n",
    "                                                  transforms.Resize((32,32)),\n",
    "                                                  transforms.ToTensor(),\n",
    "                                                  transforms.Normalize(mean = (0.1325,), std = (0.3105,))]),\n",
    "                                          download=True)\n",
    "\n",
    "\n",
    "train_loader = torch.utils.data.DataLoader(dataset = train_dataset,\n",
    "                                           batch_size = batch_size,\n",
    "                                           shuffle = True)\n",
    "\n",
    "\n",
    "test_loader = torch.utils.data.DataLoader(dataset = test_dataset,\n",
    "                                           batch_size = batch_size,\n",
    "                                           shuffle = True)\n"
   ]
  },
  {
   "cell_type": "code",
   "execution_count": 5,
   "id": "def082d2",
   "metadata": {},
   "outputs": [
    {
     "name": "stdout",
     "output_type": "stream",
     "text": [
      "Dataset MNIST\n",
      "    Number of datapoints: 60000\n",
      "    Root location: ./data\n",
      "    Split: Train\n",
      "    StandardTransform\n",
      "Transform: Compose(\n",
      "               Resize(size=(32, 32), interpolation=bilinear, max_size=None, antialias=True)\n",
      "               ToTensor()\n",
      "               Normalize(mean=(0.1307,), std=(0.3081,))\n",
      "           )\n",
      "Dataset MNIST\n",
      "    Number of datapoints: 10000\n",
      "    Root location: ./data\n",
      "    Split: Test\n",
      "    StandardTransform\n",
      "Transform: Compose(\n",
      "               Resize(size=(32, 32), interpolation=bilinear, max_size=None, antialias=True)\n",
      "               ToTensor()\n",
      "               Normalize(mean=(0.1325,), std=(0.3105,))\n",
      "           )\n"
     ]
    }
   ],
   "source": [
    "print(train_dataset)\n",
    "print(test_dataset)"
   ]
  },
  {
   "cell_type": "markdown",
   "id": "e2c83761",
   "metadata": {},
   "source": [
    "### Get Data in compatible formats"
   ]
  },
  {
   "cell_type": "code",
   "execution_count": 6,
   "id": "55bd5d80",
   "metadata": {},
   "outputs": [],
   "source": [
    "x_test = []\n",
    "y_test = []\n",
    "x_train = []\n",
    "y_train = []\n",
    "\n",
    "for images, labels in test_loader:\n",
    "\n",
    "    for i in range(len(labels)):\n",
    "\n",
    "        x_test.append(images[i])\n",
    "        y_test.append(labels[i])\n",
    "        \n",
    "for images, labels in train_loader:\n",
    "    for i in range(len(labels)):\n",
    "        x_train.append(images[i])\n",
    "        y_train.append(labels[i])\n",
    "    \n"
   ]
  },
  {
   "cell_type": "code",
   "execution_count": 7,
   "id": "a578cf3c",
   "metadata": {},
   "outputs": [
    {
     "name": "stdout",
     "output_type": "stream",
     "text": [
      "10000\n",
      "10000\n",
      "60000\n",
      "60000\n",
      "tensor([[[-0.4267, -0.4267, -0.4267,  ..., -0.4267, -0.4267, -0.4267],\n",
      "         [-0.4267, -0.4267, -0.4267,  ..., -0.4267, -0.4267, -0.4267],\n",
      "         [-0.4267, -0.4267, -0.4267,  ..., -0.4267, -0.4267, -0.4267],\n",
      "         ...,\n",
      "         [-0.4267, -0.4267, -0.4267,  ..., -0.4267, -0.4267, -0.4267],\n",
      "         [-0.4267, -0.4267, -0.4267,  ..., -0.4267, -0.4267, -0.4267],\n",
      "         [-0.4267, -0.4267, -0.4267,  ..., -0.4267, -0.4267, -0.4267]]])\n",
      "tensor(7)\n",
      "tensor([[[-0.4242, -0.4242, -0.4242,  ..., -0.4242, -0.4242, -0.4242],\n",
      "         [-0.4242, -0.4242, -0.4242,  ..., -0.4242, -0.4242, -0.4242],\n",
      "         [-0.4242, -0.4242, -0.4242,  ..., -0.4242, -0.4242, -0.4242],\n",
      "         ...,\n",
      "         [-0.4242, -0.4242, -0.4242,  ..., -0.4242, -0.4242, -0.4242],\n",
      "         [-0.4242, -0.4242, -0.4242,  ..., -0.4242, -0.4242, -0.4242],\n",
      "         [-0.4242, -0.4242, -0.4242,  ..., -0.4242, -0.4242, -0.4242]]])\n",
      "tensor(8)\n"
     ]
    }
   ],
   "source": [
    "print(len(x_test))\n",
    "print(len(y_test))\n",
    "print(len(x_train))\n",
    "print(len(y_train))\n",
    "\n",
    "print(x_test[0])\n",
    "print(y_test[0])\n",
    "print(x_train[0])\n",
    "print(y_train[0])"
   ]
  },
  {
   "cell_type": "markdown",
   "id": "6b60eae5",
   "metadata": {},
   "source": [
    "### Define Lenet Model Class"
   ]
  },
  {
   "cell_type": "markdown",
   "id": "48de9f42",
   "metadata": {},
   "source": [
    "Used the following source to build LeNet class: https://blog.paperspace.com/writing-lenet5-from-scratch-in-python/"
   ]
  },
  {
   "cell_type": "code",
   "execution_count": 8,
   "id": "e5269078",
   "metadata": {},
   "outputs": [],
   "source": [
    "#Define LeNet Class\n",
    "class LeNet5(nn.Module):\n",
    "    def __init__(self, num_classes):\n",
    "        #super(ConvNeuralNet, self).__init__()\n",
    "        super(LeNet5, self).__init__()\n",
    "        self.layer1 = nn.Sequential(\n",
    "            nn.Conv2d(1, 6, kernel_size=5, stride=1, padding=0),\n",
    "            nn.BatchNorm2d(6),\n",
    "            nn.ReLU(),\n",
    "            nn.MaxPool2d(kernel_size = 2, stride = 2))\n",
    "        self.layer2 = nn.Sequential(\n",
    "            nn.Conv2d(6, 16, kernel_size=5, stride=1, padding=0),\n",
    "            nn.BatchNorm2d(16),\n",
    "            nn.ReLU(),\n",
    "            nn.MaxPool2d(kernel_size = 2, stride = 2))\n",
    "        self.fc = nn.Linear(400, 120)\n",
    "        self.relu = nn.ReLU()\n",
    "        self.fc1 = nn.Linear(120, 84)\n",
    "        self.relu1 = nn.ReLU()\n",
    "        self.fc2 = nn.Linear(84, num_classes)\n",
    "        \n",
    "    def forward(self, x):\n",
    "        out = self.layer1(x)\n",
    "        out = self.layer2(out)\n",
    "        out = out.reshape(out.size(0), -1)\n",
    "        out = self.fc(out)\n",
    "        out = self.relu(out)\n",
    "        out = self.fc1(out)\n",
    "        out = self.relu1(out)\n",
    "        out = self.fc2(out)\n",
    "        return out"
   ]
  },
  {
   "cell_type": "markdown",
   "id": "66648e0c",
   "metadata": {},
   "source": [
    "### Build the Model"
   ]
  },
  {
   "cell_type": "code",
   "execution_count": 9,
   "id": "e38b0077",
   "metadata": {},
   "outputs": [],
   "source": [
    "model = LeNet5(num_classes).to(device)\n",
    "\n",
    "#Use Cross Entropy for loss\n",
    "cost = nn.CrossEntropyLoss()\n",
    "\n",
    "#Set Optimizer\n",
    "optimizer = torch.optim.Adam(model.parameters(), lr=learning_rate)\n",
    "\n",
    "#Show steps\n",
    "total_step = len(train_loader)"
   ]
  },
  {
   "cell_type": "markdown",
   "id": "8cd217e2",
   "metadata": {},
   "source": [
    "### Train the Model"
   ]
  },
  {
   "cell_type": "code",
   "execution_count": 10,
   "id": "095e687f",
   "metadata": {},
   "outputs": [
    {
     "name": "stdout",
     "output_type": "stream",
     "text": [
      "Epoch [1/10], Step [400/938], Loss: 0.0352\n",
      "Epoch [1/10], Step [800/938], Loss: 0.1065\n",
      "Epoch [2/10], Step [400/938], Loss: 0.1665\n",
      "Epoch [2/10], Step [800/938], Loss: 0.0148\n",
      "Epoch [3/10], Step [400/938], Loss: 0.0095\n",
      "Epoch [3/10], Step [800/938], Loss: 0.0356\n",
      "Epoch [4/10], Step [400/938], Loss: 0.0144\n",
      "Epoch [4/10], Step [800/938], Loss: 0.0071\n",
      "Epoch [5/10], Step [400/938], Loss: 0.0032\n",
      "Epoch [5/10], Step [800/938], Loss: 0.0480\n",
      "Epoch [6/10], Step [400/938], Loss: 0.0263\n",
      "Epoch [6/10], Step [800/938], Loss: 0.0048\n",
      "Epoch [7/10], Step [400/938], Loss: 0.0521\n",
      "Epoch [7/10], Step [800/938], Loss: 0.0011\n",
      "Epoch [8/10], Step [400/938], Loss: 0.0060\n",
      "Epoch [8/10], Step [800/938], Loss: 0.0012\n",
      "Epoch [9/10], Step [400/938], Loss: 0.0106\n",
      "Epoch [9/10], Step [800/938], Loss: 0.0008\n",
      "Epoch [10/10], Step [400/938], Loss: 0.0023\n",
      "Epoch [10/10], Step [800/938], Loss: 0.0112\n"
     ]
    }
   ],
   "source": [
    "total_step = len(train_loader)\n",
    "for epoch in range(num_epochs):\n",
    "    for i, (images, labels) in enumerate(train_loader):  \n",
    "        images = images.to(device)\n",
    "        labels = labels.to(device)\n",
    "        \n",
    "        #Forward pass\n",
    "        outputs = model(images.cuda())\n",
    "        loss = cost(outputs, labels)\n",
    "\n",
    "        # Backward and optimize\n",
    "        optimizer.zero_grad()\n",
    "        loss.backward()\n",
    "        optimizer.step()\n",
    "\n",
    "        if (i+1) % 400 == 0:\n",
    "            print ('Epoch [{}/{}], Step [{}/{}], Loss: {:.4f}'.format(epoch+1, num_epochs, i+1, total_step, loss.item()))"
   ]
  },
  {
   "cell_type": "markdown",
   "id": "ae0a1eda",
   "metadata": {},
   "source": [
    "### Test the model against Mnist Data"
   ]
  },
  {
   "cell_type": "code",
   "execution_count": 11,
   "id": "44314209",
   "metadata": {},
   "outputs": [
    {
     "name": "stdout",
     "output_type": "stream",
     "text": [
      "Accuracy: 99.11 %\n"
     ]
    }
   ],
   "source": [
    "# Test the model\n",
    "  \n",
    "with torch.no_grad():\n",
    "    correct = 0\n",
    "    total = 0\n",
    "    for images, labels in test_loader:\n",
    "        images = images.to(device)\n",
    "        labels = labels.to(device)\n",
    "        outputs = model(images)\n",
    "        _, predicted = torch.max(outputs.data, 1)\n",
    "        total += labels.size(0)\n",
    "        correct += (predicted == labels).sum().item()\n",
    "\n",
    "    print('Accuracy: {} %'.format(100 * correct / total))\n",
    "\t "
   ]
  },
  {
   "cell_type": "markdown",
   "id": "cbdc0ddf",
   "metadata": {},
   "source": [
    "### Smoothing"
   ]
  },
  {
   "cell_type": "code",
   "execution_count": 12,
   "id": "f4427a3b",
   "metadata": {},
   "outputs": [],
   "source": [
    "# Additional imports for smoothing\n",
    "import core\n",
    "from core import Smooth\n"
   ]
  },
  {
   "cell_type": "markdown",
   "id": "375069de",
   "metadata": {},
   "source": [
    "### Create Smoothed Classifier from Base Classifier"
   ]
  },
  {
   "cell_type": "code",
   "execution_count": 26,
   "id": "b872d948",
   "metadata": {},
   "outputs": [
    {
     "name": "stdout",
     "output_type": "stream",
     "text": [
      "<core.Smooth object at 0x000001CA2D10B150>\n"
     ]
    }
   ],
   "source": [
    "smoothed_lenet = Smooth(model, num_classes=10, sigma=0.25)\n",
    "print(smoothed_lenet)"
   ]
  },
  {
   "cell_type": "markdown",
   "id": "2d0f7160",
   "metadata": {},
   "source": [
    "### Test Smoothed Model"
   ]
  },
  {
   "cell_type": "code",
   "execution_count": 14,
   "id": "e3963754",
   "metadata": {
    "scrolled": true
   },
   "outputs": [
    {
     "name": "stdout",
     "output_type": "stream",
     "text": [
      "True\n",
      "10000\n",
      "0.9848\n"
     ]
    }
   ],
   "source": [
    "#print(x_test[0])\n",
    "\n",
    "x_test_torch = torch.stack(x_test)\n",
    "total = 0\n",
    "correct = 0\n",
    "print(len(y_test) == len(x_test_torch))\n",
    "print(len(y_test))\n",
    "for i in range(len(x_test_torch)):\n",
    "    result = smoothed_lenet.predict(x_test_torch[i].to(device), n=10, alpha=0.5, batch_size=64)\n",
    "    if result == y_test[i]:\n",
    "        correct += 1\n",
    "    total += 1\n",
    "print(correct / total)"
   ]
  },
  {
   "cell_type": "code",
   "execution_count": 15,
   "id": "bd4dd587",
   "metadata": {},
   "outputs": [],
   "source": [
    "import pickle\n"
   ]
  },
  {
   "cell_type": "markdown",
   "id": "4155464e",
   "metadata": {},
   "source": [
    "#### Misc Function"
   ]
  },
  {
   "cell_type": "code",
   "execution_count": 16,
   "id": "73b9072a",
   "metadata": {},
   "outputs": [],
   "source": [
    "## Function for showing images\n",
    "# Reference: https://www.kaggle.com/code/hojjatk/read-mnist-dataset/notebook\n",
    "import matplotlib.pyplot as plt\n",
    "from matplotlib.gridspec import GridSpec\n",
    "%matplotlib inline\n",
    "\n",
    "def show_images(images, title_texts):\n",
    "    '''Function to show set of grayscale images with titles'''\n",
    "    cols = 5\n",
    "    rows = int(len(images)/cols) + 1\n",
    "    plt.figure(figsize=(30,20))\n",
    "    index = 1    \n",
    "    for x in zip(images, title_texts):        \n",
    "        image = x[0]        \n",
    "        title_text = x[1]\n",
    "        plt.subplot(rows, cols, index)        \n",
    "        plt.imshow(image, cmap=plt.cm.gray)\n",
    "        if (title_text != ''):\n",
    "            plt.title(title_text, fontsize = 15);        \n",
    "        index += 1"
   ]
  },
  {
   "cell_type": "markdown",
   "id": "adaf867e",
   "metadata": {},
   "source": [
    "### Load in Adversarial Images"
   ]
  },
  {
   "cell_type": "code",
   "execution_count": 17,
   "id": "51f61a2f",
   "metadata": {},
   "outputs": [],
   "source": [
    "adv_data = []\n",
    "with (open(\"../../LeNet_Adversarial_Data/adv_mnist_xtest/Adversarial_test_images/lenet_test_adv_images.pickle\", \"rb\")) as openfile:\n",
    "    while True:\n",
    "        try:\n",
    "            adv_data.append(pickle.load(openfile))\n",
    "        except EOFError:\n",
    "            break\n"
   ]
  },
  {
   "cell_type": "code",
   "execution_count": 18,
   "id": "c0913068",
   "metadata": {},
   "outputs": [],
   "source": [
    "adv_labels = []\n",
    "with (open(\"../../LeNet_Adversarial_Data/adv_mnist_xtest/Adversarial_test_image_labels/lenet_test_adv_labels.pickle\", \"rb\")) as openfile:\n",
    "    while True:\n",
    "        try:\n",
    "            adv_labels.append(pickle.load(openfile))\n",
    "        except EOFError:\n",
    "            break\n"
   ]
  },
  {
   "cell_type": "code",
   "execution_count": 19,
   "id": "1ba89cd4",
   "metadata": {},
   "outputs": [],
   "source": [
    "orig_labels = []\n",
    "with (open(\"../../LeNet_Adversarial_Data/adv_mnist_xtest/Original_test_pred_labels/lenet_test_orig_labels.pickle\", \"rb\")) as openfile:\n",
    "    while True:\n",
    "        try:\n",
    "            orig_labels.append(pickle.load(openfile))\n",
    "        except EOFError:\n",
    "            break"
   ]
  },
  {
   "cell_type": "code",
   "execution_count": 20,
   "id": "ddb2e0a1",
   "metadata": {},
   "outputs": [
    {
     "name": "stdout",
     "output_type": "stream",
     "text": [
      "[3, 3, 2, 6, 9]\n",
      "[7, 2, 1, 0, 4]\n"
     ]
    },
    {
     "data": {
      "image/png": "[encoded data removed]",
      "text/plain": [
       "<Figure size 3000x2000 with 5 Axes>"
      ]
     },
     "metadata": {},
     "output_type": "display_data"
    }
   ],
   "source": [
    "#print(len(adv_data[0]))\n",
    "show_images(adv_data[0][:5], \"adv images\")\n",
    "#show_images(x_test[:5], \"truth images\")\n",
    "print((adv_labels[0][:5]))\n",
    "print((orig_labels[0][:5]))"
   ]
  },
  {
   "cell_type": "markdown",
   "id": "2f66882c",
   "metadata": {},
   "source": [
    "### Use Smoothed Classifier to Predict Adversarial Images"
   ]
  },
  {
   "cell_type": "code",
   "execution_count": 27,
   "id": "fa68718b",
   "metadata": {},
   "outputs": [
    {
     "name": "stdout",
     "output_type": "stream",
     "text": [
      "True\n",
      "10000\n",
      "torch.Size([10000, 1, 32, 32])\n",
      "Accuracy of Smoothed Classifier on Adversarial Images: 81.5 %\n"
     ]
    }
   ],
   "source": [
    "x_test_adv = [torch.tensor(im) for im in adv_data[0]]\n",
    "x_test_adv = torch.stack(x_test_adv)\n",
    "x_test_adv = np.transpose(x_test_adv, (0, 3, 1, 2))\n",
    "total = 0\n",
    "correct = 0\n",
    "print(len(orig_labels[0]) == len(x_test_adv))\n",
    "print(len(orig_labels[0]))\n",
    "print(x_test_adv.shape)\n",
    "for i in range(len(x_test_adv)):\n",
    "    result = smoothed_lenet.predict(x_test_adv[i].to(device), n=10, alpha=0.5, batch_size=64)\n",
    "    if result == orig_labels[0][i]:\n",
    "        correct += 1\n",
    "    total += 1\n",
    "#print(\"Accuracy of Smoothed Model: \" + str(correct / total))\n",
    "print('Accuracy of Smoothed Classifier on Adversarial Images: {} %'.format(100 * correct / total))"
   ]
  },
  {
   "cell_type": "markdown",
   "id": "771bd088",
   "metadata": {},
   "source": [
    "### Use original classifier to predict adversarial images"
   ]
  },
  {
   "cell_type": "code",
   "execution_count": 28,
   "id": "3614a542",
   "metadata": {},
   "outputs": [
    {
     "name": "stdout",
     "output_type": "stream",
     "text": [
      "Accuracy of Base Classifier on Adversarial Images: 47.73 %\n"
     ]
    }
   ],
   "source": [
    "with torch.no_grad():\n",
    "    correct = 0\n",
    "    total = 0\n",
    "    \n",
    "    images = x_test_adv.to(device)\n",
    "    labels = torch.tensor(orig_labels[0]).to(device)\n",
    "    outputs = model(images)\n",
    "    _, predicted = torch.max(outputs.data, 1)\n",
    "    total += labels.size(0)\n",
    "    correct += (predicted == labels).sum().item()\n",
    "\n",
    "    print('Accuracy of Base Classifier on Adversarial Images: {} %'.format(100 * correct / total))\n",
    "\t "
   ]
  },
  {
   "cell_type": "code",
   "execution_count": 29,
   "id": "37887cc6",
   "metadata": {},
   "outputs": [
    {
     "name": "stdout",
     "output_type": "stream",
     "text": [
      "7\n",
      "2\n",
      "1\n",
      "0\n",
      "4\n",
      "tensor([7, 1, 1, 0, 4], device='cuda:0')\n"
     ]
    }
   ],
   "source": [
    "for i in range(5):\n",
    "    result = smoothed_lenet.predict(x_test_adv[i].to(device), n=10, alpha=0.8, batch_size=64)\n",
    "    print(result)\n",
    "print(predicted[0:5])"
   ]
  },
  {
   "cell_type": "code",
   "execution_count": null,
   "id": "b63f948f",
   "metadata": {},
   "outputs": [],
   "source": []
  }
 ],
 "metadata": {
  "kernelspec": {
   "display_name": "Python 3 (ipykernel)",
   "language": "python",
   "name": "python3"
  },
  "language_info": {
   "codemirror_mode": {
    "name": "ipython",
    "version": 3
   },
   "file_extension": ".py",
   "mimetype": "text/x-python",
   "name": "python",
   "nbconvert_exporter": "python",
   "pygments_lexer": "ipython3",
   "version": "3.11.5"
  }
 },
 "nbformat": 4,
 "nbformat_minor": 5
}
