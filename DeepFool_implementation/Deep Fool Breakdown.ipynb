{
 "cells": [
  {
   "cell_type": "code",
   "execution_count": 5,
   "metadata": {},
   "outputs": [],
   "source": [
    "from tensorflow import keras\n",
    "import numpy as np\n",
    "import random\n",
    "from tensorflow.image import resize\n",
    "import cv2\n",
    "from itertools import islice\n",
    "#from sklearn.preprocessing import LabelBinarizer\n",
    "from sklearn.preprocessing import LabelEncoder\n",
    "from keras.models import load_model\n",
    "import matplotlib.pyplot as plt\n",
    "from matplotlib.gridspec import GridSpec\n",
    "%matplotlib inline\n",
    "import copy\n",
    "import tensorflow as tf\n",
    "from tensorflow.keras import backend as K\n",
    "import json, torch"
   ]
  },
  {
   "cell_type": "markdown",
   "metadata": {},
   "source": [
    "### Functions"
   ]
  },
  {
   "cell_type": "code",
   "execution_count": 90,
   "metadata": {},
   "outputs": [],
   "source": [
    "def resize_and_process_images_for_model(image_set, model):\n",
    "    '''Function to resize image sets based on give model'''\n",
    "    if model == 'lenet5':\n",
    "        images_resized = np.expand_dims(image_set, axis=-1) # Add channel\n",
    "        images_resized = images_resized.astype('float32') # convert image values from integers to floats\n",
    "        images_resized = images_resized/255.0 # normalization\n",
    "        images_resized = resize(images_resized, [32,32], antialias=True, method='bilinear') # resize\n",
    "        images_resized = images_resized.numpy() # Need to convert to numpy to prevent error when using train_test_split()\n",
    "\n",
    "    if model == 'vgg16':\n",
    "        images_resized = np.expand_dims(image_set, axis=-1) #add new dimension at the end of the array shape.\n",
    "        images_resized = np.repeat(images_resized, 3, axis=-1)  # Repeat the channel dimension three times\n",
    "        images_resized = images_resized.astype('float32') # convert image values from integers to floats\n",
    "        images_resized = images_resized/255.0 # normalization\n",
    "        images_resized = resize(images_resized, [48,48], antialias=True, method='bilinear') # resize\n",
    "        images_resized = images_resized.numpy() # Need to convert to numpy to prevent error when using train_test_split()\n",
    "\n",
    "    return images_resized\n",
    "\n",
    "def display_images(images, label):\n",
    "    n_col = len(images)\n",
    "    fig, axes = plt.subplots(1, n_col, figsize=(18,5))\n",
    "    for i in range(n_col):\n",
    "        image  = images[i]\n",
    "        if image.shape == (32, 32, 1):\n",
    "            cmap = 'gray'\n",
    "            model_type = 'LeNet-5'\n",
    "        elif image.shape == (48, 48, 3):\n",
    "            cmap = None\n",
    "            model_type = 'VGG16'\n",
    "        axes[i].imshow(images[i], cmap=cmap)\n",
    "        axes[i].set_title(f'{model_type} Input Image - Label {label}')\n",
    "    \n",
    "    plt.tight_layout()\n",
    "    plt.show()\n",
    "\n",
    "def display_adv_images(input_images, adv_images, input_labels, adv_labels, img_perts):\n",
    "    n_rows = len(input_images)\n",
    "    n_cols = 3\n",
    "    fig = plt.figure(figsize=(10, 7)) \n",
    "    for i in range(n_rows):\n",
    "        if input_images[i].shape == (32, 32, 1):\n",
    "            cmap = 'gray'\n",
    "            model_type = 'LeNet-5'\n",
    "        elif input_images[i].shape == (48, 48, 3):\n",
    "            cmap = None\n",
    "            model_type = 'VGG16'\n",
    "            \n",
    "        fig.add_subplot(n_rows, n_cols, i+1)\n",
    "        plt.imshow(input_images[i], cmap=cmap)\n",
    "        plt.axis('off')\n",
    "        plt.title(f'{model_type} Input Image - Label {input_labels[i]}')\n",
    "        fig.add_subplot(n_rows, n_cols, i+2)\n",
    "        plt.imshow(adv_images[i], cmap=cmap)\n",
    "        plt.axis('off')\n",
    "        plt.title(f'{model_type} Adv Image - Label {adv_labels[i]}')\n",
    "        fig.add_subplot(n_rows, n_cols, i+3)\n",
    "        plt.axis('off')\n",
    "        plt.imshow(img_perts[i], cmap=cmap)\n",
    "        plt.title(f'{model_type} Total Pert for Label {input_labels[i]}')\n"
   ]
  },
  {
   "cell_type": "markdown",
   "metadata": {},
   "source": [
    "### Load and Build Models"
   ]
  },
  {
   "cell_type": "code",
   "execution_count": 7,
   "metadata": {},
   "outputs": [],
   "source": [
    "#LeNet_model = load_model('./Models/model_LeNet_no_softmax.h5')\n",
    "LeNet_model = load_model('./Models/model_LeNet_no_softmax.h5')"
   ]
  },
  {
   "cell_type": "code",
   "execution_count": 8,
   "metadata": {},
   "outputs": [],
   "source": [
    "VGG16_model = load_model('./Models/model_VGG16_no_softmax.h5')"
   ]
  },
  {
   "cell_type": "markdown",
   "metadata": {},
   "source": [
    "### Load MNIST Images"
   ]
  },
  {
   "cell_type": "code",
   "execution_count": 9,
   "metadata": {},
   "outputs": [
    {
     "name": "stdout",
     "output_type": "stream",
     "text": [
      "x_train shape:  (60000, 28, 28)\n",
      "y_train shape:  (60000,)\n",
      "x_test shape:  (10000, 28, 28)\n",
      "y_test shape:  (10000,)\n"
     ]
    }
   ],
   "source": [
    "# Loading dataset from keras (ref: https://keras.io/api/datasets/mnist/)\n",
    "(x_train,y_train),(x_test,y_test)= keras.datasets.mnist.load_data()\n",
    "\n",
    "# Print shapes\n",
    "print('x_train shape: ', x_train.shape) # Train images\n",
    "print('y_train shape: ', y_train.shape) # Train Labels\n",
    "print('x_test shape: ', x_test.shape) # Test images\n",
    "print('y_test shape: ', y_test.shape) # Test labels"
   ]
  },
  {
   "cell_type": "markdown",
   "metadata": {},
   "source": [
    "### Resize Images"
   ]
  },
  {
   "cell_type": "code",
   "execution_count": 10,
   "metadata": {},
   "outputs": [
    {
     "name": "stdout",
     "output_type": "stream",
     "text": [
      "lenet_xtest shape:  (10000, 32, 32, 1)\n"
     ]
    }
   ],
   "source": [
    "# Resize training images for LeNet5\n",
    "lenet_xtest = resize_and_process_images_for_model(x_test, 'lenet5')\n",
    "print('lenet_xtest shape: ', lenet_xtest.shape)"
   ]
  },
  {
   "cell_type": "code",
   "execution_count": 11,
   "metadata": {},
   "outputs": [
    {
     "name": "stdout",
     "output_type": "stream",
     "text": [
      "vgg16_xtest shape:  (10000, 48, 48, 3)\n"
     ]
    }
   ],
   "source": [
    "# Resize training images for VGG16\n",
    "vgg16_xtest = resize_and_process_images_for_model(x_test, 'vgg16')\n",
    "print('vgg16_xtest shape: ', vgg16_xtest.shape)"
   ]
  },
  {
   "cell_type": "markdown",
   "metadata": {},
   "source": [
    "### Select Input Images"
   ]
  },
  {
   "cell_type": "code",
   "execution_count": 100,
   "metadata": {},
   "outputs": [
    {
     "data": {
      "image/png": "[encoded data removed]",
      "text/plain": [
       "<Figure size 1296x360 with 2 Axes>"
      ]
     },
     "metadata": {
      "needs_background": "light"
     },
     "output_type": "display_data"
    }
   ],
   "source": [
    "index = 0\n",
    "\n",
    "# Select input image for LeNet and VGG16\n",
    "lenet_input_img = lenet_xtest[index]\n",
    "vgg16_input_img = vgg16_xtest[index]\n",
    "\n",
    "# Grab label\n",
    "input_label = y_test[index]\n",
    "\n",
    "# Preview selected input images\n",
    "prev_imgs = [lenet_input_img, vgg16_input_img]\n",
    "display_images(prev_imgs, input_label)"
   ]
  },
  {
   "cell_type": "markdown",
   "metadata": {},
   "source": [
    "### Deep Fool Attack"
   ]
  },
  {
   "cell_type": "code",
   "execution_count": 108,
   "metadata": {},
   "outputs": [],
   "source": [
    "def deepfool_attack(model, input_images, max_iter=50, overshoot=0.01):\n",
    "    # Intializes arrays to store final values\n",
    "    images_adv = []\n",
    "    images_pert = []\n",
    "    labels_adv = []\n",
    "    iters = []\n",
    "    orig_labels = []\n",
    "    \n",
    "    # Create labels list for all possible classes (0 to 9)\n",
    "    all_labels = tf.range(10, dtype=tf.int32) # Needs to be int32 or int64 type for loss function\n",
    "    #print('all_labels: ', all_labels)\n",
    "    \n",
    "    # Find the ideal perturbation on each inputted image\n",
    "    for i in range(len(input_images)):\n",
    "        \n",
    "        # Grab image to perturb\n",
    "        input_img = input_images[i]\n",
    "        \n",
    "        # Expand Image to batch size of 1 for model input. e.g. (32, 32, 1) => (1, 32, 32, 1)\n",
    "        x = tf.expand_dims(input_img, axis=0)\n",
    "\n",
    "        # Copy image to perturb\n",
    "        x_pert = copy.deepcopy(x)\n",
    "\n",
    "        # Pert hat to go on image\n",
    "        r_hat = tf.zeros_like(x)\n",
    "\n",
    "        # Get the model logit values of the image and get predicted label\n",
    "        k_0_logits = model(x)\n",
    "        k_0 = np.argmax(k_0_logits) # predicted label for input image\n",
    "        #print('The true input image label, k_0: ', k_0)\n",
    "\n",
    "        # Initialize variable to store predicted labels after perturbation\n",
    "        k_i = k_0\n",
    "        \n",
    "        # Create list of labels that are not the inputted image label\n",
    "        k_wrong = all_labels[all_labels != k_0]\n",
    "        #print('k_wrong: ', k_wrong)\n",
    "        \n",
    "        # Intialize count for storing how many iterations it took to find ideal perturbation\n",
    "        count = 0\n",
    "        \n",
    "        # Find ideal perturbation. \n",
    "        #Break from loop if max_iter is reached or pert label not equal to true label\n",
    "        for j in range(max_iter):\n",
    "            if k_i != k_0: \n",
    "                break      \n",
    "\n",
    "            w_ks = [] # Initialize array to store gradients\n",
    "            \n",
    "            # Compute the gradient of the loss function with respect to the pert image\n",
    "            #  for each class\n",
    "            for k in range(10):\n",
    "                with tf.GradientTape() as tape:\n",
    "                    x_pert = tf.convert_to_tensor(x_pert) # Convert to tensor to be used in tape.watch()\n",
    "                    tape.watch(x_pert)\n",
    "                    logits = model(x_pert, training=False)\n",
    "                    label = tf.expand_dims(all_labels[k], axis=0) # Make rank = 1 for label input in loss e.g. (1,)\n",
    "                    loss = tf.nn.sparse_softmax_cross_entropy_with_logits(labels=label, logits=logits)\n",
    "                    w_k = tape.gradient(loss, x_pert)\n",
    "                    w_ks.append(-w_k) # Add negative sign to move away from gradient\n",
    "            f_k = tf.convert_to_tensor(logits) # conver to tensor\n",
    "            w_ks = tf.convert_to_tensor(w_ks)  # convert to tensor\n",
    "            #print('logits shape: ', f_k.shape)\n",
    "            #print('gradients shape: ', w_ks.shape)\n",
    "\n",
    "            # Initialize arrays to store values of gradients, logits, and perts\n",
    "            perts = []\n",
    "            w_k_diffs = []\n",
    "            f_k_diffs = []\n",
    "\n",
    "            # Compute the difference between gradient/logit values for the\n",
    "            #  wrong labels and the gradient/logit value for the label 'k_0'\n",
    "            for k in k_wrong:\n",
    "                # Calculate difference between wrong class gradients and true class gradient\n",
    "                w_k_diff = w_ks[k] - w_ks[k_0]\n",
    "                # Calculate difference between wrong class logits and true class logits\n",
    "                f_k_diff = f_k[0][k] - f_k[0][k_0]\n",
    "\n",
    "                # Append values to array \n",
    "                w_k_diffs.append(w_k_diff)\n",
    "                f_k_diffs.append(f_k_diff)\n",
    "\n",
    "                # Apply L2 Norm to gradient difference\n",
    "                w_k_diff_l2_norm = tf.sqrt(tf.reduce_sum(tf.square(w_k_diff), axis=[1, 2, 3]))\n",
    "                # Compute the perturbation scalars \n",
    "                pert = tf.abs(f_k_diff) / w_k_diff_l2_norm\n",
    "                perts.append(pert)\n",
    "\n",
    "            w_k_diffs = tf.convert_to_tensor(w_k_diffs)\n",
    "            f_k_diffs = tf.convert_to_tensor(f_k_diffs)\n",
    "            perts = tf.convert_to_tensor(perts)   \n",
    "            perts = tf.reshape(perts, [-1])\n",
    "            #print('gradients differences: ', w_k_diffs.shape)\n",
    "            #print('logits differences: ', f_k_diffs.shape)\n",
    "            #print('perts shape: ', perts.shape)\n",
    "            #print('perts ', perts)\n",
    "\n",
    "            # get the index for the perturbation scalar that resulted in the smallest value\n",
    "            pert_min_index = tf.math.argmin(perts, axis=0) \n",
    "            #print('pert_min_index: ', pert_min_index.numpy()) \n",
    "\n",
    "            # Compute the minimum perturbation and sum it with the previous\n",
    "            # perturbations (Authors of paper did not mention a constant\n",
    "            # added to the perturbation scalar, but it helps reduce the\n",
    "            # number of iterations needed to fool the classifier)\n",
    "            w_k_diff_l2_norm_at_pert_min = tf.sqrt(tf.reduce_sum(tf.square(w_k_diffs[pert_min_index]), axis=[1, 2, 3]))\n",
    "            r_i = (perts[pert_min_index] + 1e-4) * w_k_diffs[pert_min_index] / w_k_diff_l2_norm_at_pert_min\n",
    "            #print('r_i shape: ', r_i.shape)\n",
    "            r_hat += r_i\n",
    "\n",
    "            # Project the perturbation scaled with the overshoot\n",
    "            # value over the input image\n",
    "            x_pert = x + (1 + overshoot) * r_hat\n",
    "            \n",
    "            # Clip values to ensure image doesnt go out of bounds\n",
    "            x_pert = tf.clip_by_value(x_pert, 0.0, 1.0)\n",
    "    \n",
    "            # Get the logit values of the aversarial image\n",
    "            # and get the max confidence and predicted label\n",
    "            adv_logits = model(x_pert)\n",
    "            k_i = np.argmax(adv_logits) # Get predicted label of perturbed value \n",
    "            #print('adv predicted label_i: ', k_i)\n",
    "            \n",
    "            # Add count for iteration\n",
    "            count += 1\n",
    "        \n",
    "        # Convert x_pert back to original image shape. e.g. (1, 32, 32, 1) + (32, 32, 1)\n",
    "        x_pert = x_pert.numpy() # Convert back to numpy\n",
    "        x_pert = np.squeeze(x_pert, axis=0) # Remove batch dimension\n",
    "        images_adv.append(x_pert) # Convert image back to original shape and type\n",
    "\n",
    "        # Convert total perturbation to original image shape\n",
    "        total_pert = x_pert - x # This will be result of (1 + overshoot)*r_hat\n",
    "        total_pert = total_pert.numpy() # Convert to numpy\n",
    "        total_pert = np.squeeze(total_pert, axis=0) # remove batch dimension\n",
    "        images_pert.append(total_pert) \n",
    "        labels_adv.append(k_i)\n",
    "        iters.append(count)\n",
    "        orig_labels.append(k_0)\n",
    "        \n",
    "    return orig_labels, images_adv, images_pert, labels_adv, iters\n"
   ]
  },
  {
   "cell_type": "markdown",
   "metadata": {},
   "source": [
    "### Run Deep Fool Attack on LeNet Images"
   ]
  },
  {
   "cell_type": "code",
   "execution_count": 109,
   "metadata": {},
   "outputs": [],
   "source": [
    "# Run Deep Fool on the selected input images\n",
    "input_imgs = [lenet_input_img]\n",
    "model = LeNet_model\n",
    "\n",
    "lenet_orig_labels, lenet_adv_images, lenet_adv_perts, lenet_adv_labels, lenet_iterations = deepfool_attack(model, input_imgs)"
   ]
  },
  {
   "cell_type": "markdown",
   "metadata": {},
   "source": [
    "### Display Attack"
   ]
  },
  {
   "cell_type": "code",
   "execution_count": 110,
   "metadata": {},
   "outputs": [
    {
     "data": {
      "image/png": "[encoded data removed]",
      "text/plain": [
       "<Figure size 720x504 with 3 Axes>"
      ]
     },
     "metadata": {
      "needs_background": "light"
     },
     "output_type": "display_data"
    }
   ],
   "source": [
    "display_adv_images(input_imgs, lenet_adv_images, lenet_orig_labels, lenet_adv_labels, lenet_adv_perts)"
   ]
  },
  {
   "cell_type": "markdown",
   "metadata": {},
   "source": [
    "### Attack on VGG16 Models"
   ]
  },
  {
   "cell_type": "code",
   "execution_count": 111,
   "metadata": {},
   "outputs": [],
   "source": [
    "# Run Deep Fool on the selected input images\n",
    "input_imgs = [vgg16_input_img]\n",
    "model = VGG16_model\n",
    "\n",
    "vgg16_orig_labels, vgg16_adv_images, vgg16_adv_perts, vgg16_adv_labels, vgg16_iterations = deepfool_attack(model, input_imgs)\n"
   ]
  },
  {
   "cell_type": "code",
   "execution_count": 112,
   "metadata": {},
   "outputs": [
    {
     "name": "stderr",
     "output_type": "stream",
     "text": [
      "Clipping input data to the valid range for imshow with RGB data ([0..1] for floats or [0..255] for integers).\n"
     ]
    },
    {
     "data": {
      "image/png": "[encoded data removed]",
      "text/plain": [
       "<Figure size 720x504 with 3 Axes>"
      ]
     },
     "metadata": {
      "needs_background": "light"
     },
     "output_type": "display_data"
    }
   ],
   "source": [
    "display_adv_images(input_imgs, vgg16_adv_images, vgg16_orig_labels, vgg16_adv_labels, vgg16_adv_perts)"
   ]
  }
 ],
 "metadata": {
  "kernelspec": {
   "display_name": "Python 3",
   "language": "python",
   "name": "python3"
  },
  "language_info": {
   "codemirror_mode": {
    "name": "ipython",
    "version": 3
   },
   "file_extension": ".py",
   "mimetype": "text/x-python",
   "name": "python",
   "nbconvert_exporter": "python",
   "pygments_lexer": "ipython3",
   "version": "3.8.3"
  }
 },
 "nbformat": 4,
 "nbformat_minor": 4
}
